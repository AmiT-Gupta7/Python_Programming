{
 "cells": [
  {
   "cell_type": "code",
   "execution_count": null,
   "id": "1a59f76b",
   "metadata": {},
   "outputs": [],
   "source": [
    "f = open(\"sample.txt\", \"w\") # open file in write mode\n",
    "f.write(\"I am learning Python programming.\") # write to the file   \n",
    "f.write(\"\\nThis is my first file handling program.\")\n",
    "f.close()"
   ]
  },
  {
   "cell_type": "markdown",
   "id": "2cd00485",
   "metadata": {},
   "source": [
    "read(), readline() and readlines()"
   ]
  },
  {
   "cell_type": "code",
   "execution_count": 13,
   "id": "64979416",
   "metadata": {},
   "outputs": [
    {
     "name": "stdout",
     "output_type": "stream",
     "text": [
      "['hi my name is amit gupta \\n', 'i am learning python\\n', 'today i am learn about file\\n', 'file input/output ']\n"
     ]
    }
   ],
   "source": [
    "f = open(\"demo.txt\",\"r\")\n",
    "# data = f.read(10) # read 10 characters\n",
    "# print(data)\n",
    "\n",
    "# line1 = f.readline() # read one line\n",
    "# print(line1, end = \"\") # end = \"\" is used to avoid double new line\n",
    "\n",
    "# line2 = f.readline() # read next line\n",
    "# print(line2 ,end = \"\")\n",
    "\n",
    "\n",
    "data = f.readlines() # read all lines and store in list\n",
    "print(data)\n",
    "f.close()"
   ]
  },
  {
   "cell_type": "markdown",
   "id": "2aa64d15",
   "metadata": {},
   "source": [
    "Reading a File. Open, Read, close"
   ]
  },
  {
   "cell_type": "code",
   "execution_count": 1,
   "id": "090f47fc",
   "metadata": {},
   "outputs": [
    {
     "name": "stdout",
     "output_type": "stream",
     "text": [
      "hi my name is amit gupta \n",
      "i am learning python\n",
      "today i am learn about file\n",
      "file input/output \n"
     ]
    }
   ],
   "source": [
    "f = open(\"demo.txt\") # by default it opens in read mode\n",
    "data = f.read() # read the entire file\n",
    "print(data)\n",
    "f.close() # always close the file after use"
   ]
  }
 ],
 "metadata": {
  "kernelspec": {
   "display_name": "Python 3",
   "language": "python",
   "name": "python3"
  },
  "language_info": {
   "codemirror_mode": {
    "name": "ipython",
    "version": 3
   },
   "file_extension": ".py",
   "mimetype": "text/x-python",
   "name": "python",
   "nbconvert_exporter": "python",
   "pygments_lexer": "ipython3",
   "version": "3.12.6"
  }
 },
 "nbformat": 4,
 "nbformat_minor": 5
}
