{
 "cells": [
  {
   "cell_type": "code",
   "execution_count": null,
   "id": "a23095a1",
   "metadata": {},
   "outputs": [
    {
     "name": "stdout",
     "output_type": "stream",
     "text": [
      "15\n"
     ]
    }
   ],
   "source": [
    "# Default ;\n",
    "def add(a = 5 , b = 10):\n",
    "    return a + b\n",
    "\n",
    "print(add(99,90))\n"
   ]
  },
  {
   "cell_type": "code",
   "execution_count": 2,
   "id": "1037a2ac",
   "metadata": {},
   "outputs": [
    {
     "name": "stdout",
     "output_type": "stream",
     "text": [
      "22.0\n"
     ]
    }
   ],
   "source": [
    "def avg(a, b, c):\n",
    "    sum = a + b + c\n",
    "    avg = sum / 3\n",
    "    return avg\n",
    "\n",
    "print(avg(11, 22, 33))"
   ]
  }
 ],
 "metadata": {
  "kernelspec": {
   "display_name": "Python 3",
   "language": "python",
   "name": "python3"
  },
  "language_info": {
   "codemirror_mode": {
    "name": "ipython",
    "version": 3
   },
   "file_extension": ".py",
   "mimetype": "text/x-python",
   "name": "python",
   "nbconvert_exporter": "python",
   "pygments_lexer": "ipython3",
   "version": "3.12.6"
  }
 },
 "nbformat": 4,
 "nbformat_minor": 5
}
