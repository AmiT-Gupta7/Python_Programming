{
 "cells": [
  {
   "cell_type": "markdown",
   "id": "3ca12e5c",
   "metadata": {},
   "source": [
    "prints all elements of a list"
   ]
  },
  {
   "cell_type": "code",
   "execution_count": null,
   "id": "7712c802",
   "metadata": {},
   "outputs": [
    {
     "name": "stdout",
     "output_type": "stream",
     "text": [
      "1\n",
      "3\n",
      "5\n",
      "7\n",
      "9\n",
      "apple\n",
      "banana\n"
     ]
    }
   ],
   "source": [
    "def print_lst(lst,inx = 0):\n",
    "    if (inx == len(lst)):\n",
    "        return\n",
    "    print(lst[inx])\n",
    "    print_lst(lst,inx + 1)\n",
    "\n",
    "lst = [1, 3, 5, 7, 9, \"apple\", \"banana\"]\n",
    "print_lst(lst)"
   ]
  },
  {
   "cell_type": "markdown",
   "id": "e9ffab6d",
   "metadata": {},
   "source": [
    "returns sum of first n natural numbers"
   ]
  },
  {
   "cell_type": "code",
   "execution_count": null,
   "id": "366172d1",
   "metadata": {},
   "outputs": [
    {
     "data": {
      "text/plain": [
       "55"
      ]
     },
     "execution_count": 12,
     "metadata": {},
     "output_type": "execute_result"
    }
   ],
   "source": [
    "def cal_sum(n):\n",
    "    if n == 0:\n",
    "        return 0\n",
    "    return n + cal_sum(n -1)\n",
    "    \n",
    "cal_sum(10)"
   ]
  },
  {
   "cell_type": "markdown",
   "id": "4b214e6a",
   "metadata": {},
   "source": [
    "returns n!.."
   ]
  },
  {
   "cell_type": "code",
   "execution_count": null,
   "id": "09521f4a",
   "metadata": {},
   "outputs": [
    {
     "data": {
      "text/plain": [
       "120"
      ]
     },
     "execution_count": 6,
     "metadata": {},
     "output_type": "execute_result"
    }
   ],
   "source": [
    "def fact(n):\n",
    "    if (n == 0 or n == 1): # base case\n",
    "        return 1\n",
    "    else:\n",
    "        return n * fact(n - 1)\n",
    "    \n",
    "fact(5)"
   ]
  },
  {
   "cell_type": "markdown",
   "id": "15f8d64f",
   "metadata": {},
   "source": [
    "Recursion in function"
   ]
  },
  {
   "cell_type": "code",
   "execution_count": null,
   "id": "e9944f58",
   "metadata": {},
   "outputs": [
    {
     "name": "stdout",
     "output_type": "stream",
     "text": [
      "5\n",
      "4\n",
      "3\n",
      "2\n",
      "1\n"
     ]
    }
   ],
   "source": [
    "def show(n):\n",
    "    if n == 0: # base case\n",
    "        return\n",
    "    print(n)\n",
    "    show(n - 1)\n",
    "\n",
    "show(5)"
   ]
  },
  {
   "cell_type": "code",
   "execution_count": null,
   "id": "4e0b6ad2",
   "metadata": {},
   "outputs": [
    {
     "name": "stdout",
     "output_type": "stream",
     "text": [
      "210 is even.\n"
     ]
    }
   ],
   "source": [
    "def odd_even(): # Function to check if a number is odd or even\n",
    "    num = int(input(\"Enter an integer: \"))\n",
    "    if num % 2 == 0:\n",
    "        print(f\"{num} is even.\")\n",
    "    else:\n",
    "        print(f\"{num} is odd.\")\n",
    "\n",
    "odd_even()"
   ]
  },
  {
   "cell_type": "code",
   "execution_count": null,
   "id": "a23095a1",
   "metadata": {},
   "outputs": [
    {
     "name": "stdout",
     "output_type": "stream",
     "text": [
      "15\n"
     ]
    }
   ],
   "source": [
    "# Default ;\n",
    "def add(a = 5 , b = 10):\n",
    "    return a + b\n",
    "\n",
    "print(add(99,90))\n"
   ]
  },
  {
   "cell_type": "code",
   "execution_count": 2,
   "id": "1037a2ac",
   "metadata": {},
   "outputs": [
    {
     "name": "stdout",
     "output_type": "stream",
     "text": [
      "22.0\n"
     ]
    }
   ],
   "source": [
    "def avg(a, b, c):\n",
    "    sum = a + b + c\n",
    "    avg = sum / 3\n",
    "    return avg\n",
    "\n",
    "print(avg(11, 22, 33))"
   ]
  }
 ],
 "metadata": {
  "kernelspec": {
   "display_name": "Python 3",
   "language": "python",
   "name": "python3"
  },
  "language_info": {
   "codemirror_mode": {
    "name": "ipython",
    "version": 3
   },
   "file_extension": ".py",
   "mimetype": "text/x-python",
   "name": "python",
   "nbconvert_exporter": "python",
   "pygments_lexer": "ipython3",
   "version": "3.12.6"
  }
 },
 "nbformat": 4,
 "nbformat_minor": 5
}
